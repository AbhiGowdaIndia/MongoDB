{
 "cells": [
  {
   "cell_type": "markdown",
   "metadata": {},
   "source": [
    "## MongoDb with python Aggregate functions"
   ]
  },
  {
   "cell_type": "code",
   "execution_count": 2,
   "metadata": {},
   "outputs": [],
   "source": [
    "# import library\n",
    "from pymongo import MongoClient  "
   ]
  },
  {
   "cell_type": "code",
   "execution_count": 3,
   "metadata": {},
   "outputs": [],
   "source": [
    "# creation of object MongoClient  \n",
    "client=MongoClient()  "
   ]
  },
  {
   "cell_type": "code",
   "execution_count": 4,
   "metadata": {},
   "outputs": [],
   "source": [
    "# Connect with the portnumber and host  \n",
    "client = MongoClient(\"mongodb://localhost:27017/\")      "
   ]
  },
  {
   "cell_type": "code",
   "execution_count": 5,
   "metadata": {},
   "outputs": [],
   "source": [
    "# Create database  \n",
    "mydatabase = client['Students']      "
   ]
  },
  {
   "cell_type": "code",
   "execution_count": 6,
   "metadata": {},
   "outputs": [],
   "source": [
    "# create collection of the database  \n",
    "collection=mydatabase['studentscores']  "
   ]
  },
  {
   "cell_type": "code",
   "execution_count": 15,
   "metadata": {},
   "outputs": [],
   "source": [
    "# Create records\n",
    "data = [ \n",
    "    {\"user\":\"Krish\", \"subject\":\"Database\", \"score\":80}, \n",
    "    {\"user\":\"Amit\",  \"subject\":\"JavaScript\", \"score\":90}, \n",
    "    {\"user\":\"Amit\",  \"title\":\"Database\", \"score\":85}, \n",
    "    {\"user\":\"Krish\",  \"title\":\"JavaScript\", \"score\":75}, \n",
    "    {\"user\":\"Amit\",  \"title\":\"Data Science\", \"score\":60},\n",
    "    {\"user\":\"Krish\",  \"title\":\"Data Science\", \"score\":95}] "
   ]
  },
  {
   "cell_type": "code",
   "execution_count": 16,
   "metadata": {},
   "outputs": [
    {
     "data": {
      "text/plain": [
       "<pymongo.results.InsertManyResult at 0x2d44c22f148>"
      ]
     },
     "execution_count": 16,
     "metadata": {},
     "output_type": "execute_result"
    }
   ],
   "source": [
    "# insert documents\n",
    "collection.insert_many(data)"
   ]
  },
  {
   "cell_type": "code",
   "execution_count": 17,
   "metadata": {},
   "outputs": [
    {
     "name": "stdout",
     "output_type": "stream",
     "text": [
      "{'_id': 'Amit', 'total subjects': 6}\n",
      "{'_id': 'Krish', 'total subjects': 6}\n"
     ]
    }
   ],
   "source": [
    "# find total subjects by each user\n",
    "agg_result=collection.aggregate(\n",
    "[{'$group':\n",
    "  {'_id':'$user',\n",
    "   'total subjects':{'$sum':1}\n",
    "  }\n",
    "}]\n",
    ")\n",
    "\n",
    "for i in agg_result:\n",
    "    print(i)"
   ]
  },
  {
   "cell_type": "code",
   "execution_count": 18,
   "metadata": {},
   "outputs": [
    {
     "name": "stdout",
     "output_type": "stream",
     "text": [
      "{'_id': 'Amit', 'total score': 470}\n",
      "{'_id': 'Krish', 'total score': 500}\n"
     ]
    }
   ],
   "source": [
    "# calculate total score per user\n",
    "agg_result=collection.aggregate(\n",
    "[{\n",
    "   '$group':\n",
    "    {'_id':'$user',\n",
    "    'total score':{'$sum':'$score'}\n",
    "    }\n",
    "}])\n",
    "\n",
    "for i in agg_result:\n",
    "    print(i)"
   ]
  },
  {
   "cell_type": "code",
   "execution_count": 19,
   "metadata": {},
   "outputs": [
    {
     "name": "stdout",
     "output_type": "stream",
     "text": [
      "{'_id': 'Amit', 'AverageScore': 78.33333333333333}\n",
      "{'_id': 'Krish', 'AverageScore': 83.33333333333333}\n"
     ]
    }
   ],
   "source": [
    "# calculate Average score per user\n",
    "agg_result = collection.aggregate(\n",
    "[{\n",
    "    '$group':\n",
    "    {'_id':'$user',\n",
    "    'AverageScore':{'$avg':'$score'}}\n",
    "}])\n",
    "\n",
    "for i in agg_result:\n",
    "    print(i)"
   ]
  },
  {
   "cell_type": "code",
   "execution_count": 20,
   "metadata": {},
   "outputs": [
    {
     "data": {
      "text/plain": [
       "[{'user': 'Krish',\n",
       "  'subject': 'Database',\n",
       "  'score': 80,\n",
       "  '_id': ObjectId('601c0de45672579110950323')},\n",
       " {'user': 'Amit',\n",
       "  'subject': 'JavaScript',\n",
       "  'score': 90,\n",
       "  '_id': ObjectId('601c0de45672579110950324')},\n",
       " {'user': 'Amit',\n",
       "  'title': 'Database',\n",
       "  'score': 85,\n",
       "  '_id': ObjectId('601c0de45672579110950325')},\n",
       " {'user': 'Krish',\n",
       "  'title': 'JavaScript',\n",
       "  'score': 75,\n",
       "  '_id': ObjectId('601c0de45672579110950326')},\n",
       " {'user': 'Amit',\n",
       "  'title': 'Data Science',\n",
       "  'score': 60,\n",
       "  '_id': ObjectId('601c0de45672579110950327')},\n",
       " {'user': 'Krish',\n",
       "  'title': 'Data Science',\n",
       "  'score': 95,\n",
       "  '_id': ObjectId('601c0de45672579110950328')}]"
      ]
     },
     "execution_count": 20,
     "metadata": {},
     "output_type": "execute_result"
    }
   ],
   "source": [
    "data"
   ]
  },
  {
   "cell_type": "code",
   "execution_count": 21,
   "metadata": {},
   "outputs": [],
   "source": [
    "import datetime as datetime"
   ]
  },
  {
   "cell_type": "code",
   "execution_count": 22,
   "metadata": {},
   "outputs": [],
   "source": [
    "### Create a new collection\n",
    "data=[{ \"_id\" : 1, \"item\" : \"abc\", \"price\" : 10, \"quantity\" : 2, \"date\" : datetime.datetime.utcnow()},\n",
    "{ \"_id\" : 2, \"item\" : \"jkl\", \"price\" : 20, \"quantity\" : 1, \"date\" : datetime.datetime.utcnow() },\n",
    "{ \"_id\" : 3, \"item\" : \"xyz\", \"price\" : 5, \"quantity\" : 5, \"date\" : datetime.datetime.utcnow() },\n",
    "{ \"_id\" : 4, \"item\" : \"abc\", \"price\" : 10, \"quantity\" : 10, \"date\" : datetime.datetime.utcnow() },\n",
    "{ \"_id\" : 5, \"item\" : \"xyz\", \"price\" : 5, \"quantity\" : 10, \"date\" :datetime.datetime.utcnow() }]"
   ]
  },
  {
   "cell_type": "code",
   "execution_count": 23,
   "metadata": {},
   "outputs": [
    {
     "data": {
      "text/plain": [
       "[{'_id': 1,\n",
       "  'item': 'abc',\n",
       "  'price': 10,\n",
       "  'quantity': 2,\n",
       "  'date': datetime.datetime(2021, 2, 4, 15, 9, 37, 374954)},\n",
       " {'_id': 2,\n",
       "  'item': 'jkl',\n",
       "  'price': 20,\n",
       "  'quantity': 1,\n",
       "  'date': datetime.datetime(2021, 2, 4, 15, 9, 37, 374954)},\n",
       " {'_id': 3,\n",
       "  'item': 'xyz',\n",
       "  'price': 5,\n",
       "  'quantity': 5,\n",
       "  'date': datetime.datetime(2021, 2, 4, 15, 9, 37, 374954)},\n",
       " {'_id': 4,\n",
       "  'item': 'abc',\n",
       "  'price': 10,\n",
       "  'quantity': 10,\n",
       "  'date': datetime.datetime(2021, 2, 4, 15, 9, 37, 374954)},\n",
       " {'_id': 5,\n",
       "  'item': 'xyz',\n",
       "  'price': 5,\n",
       "  'quantity': 10,\n",
       "  'date': datetime.datetime(2021, 2, 4, 15, 9, 37, 374954)}]"
      ]
     },
     "execution_count": 23,
     "metadata": {},
     "output_type": "execute_result"
    }
   ],
   "source": [
    "data"
   ]
  },
  {
   "cell_type": "code",
   "execution_count": 24,
   "metadata": {},
   "outputs": [
    {
     "data": {
      "text/plain": [
       "<pymongo.results.InsertManyResult at 0x2d44e891c88>"
      ]
     },
     "execution_count": 24,
     "metadata": {},
     "output_type": "execute_result"
    }
   ],
   "source": [
    "# create collection\n",
    "mycollection=mydatabase['stores']  \n",
    "\n",
    "# insert multiple records\n",
    "mycollection.insert_many(data)"
   ]
  },
  {
   "cell_type": "code",
   "execution_count": 27,
   "metadata": {},
   "outputs": [
    {
     "name": "stdout",
     "output_type": "stream",
     "text": [
      "{'_id': 'xyz', 'Average Prize': 37.5, 'Average Quantity': 7.5}\n",
      "{'_id': 'jkl', 'Average Prize': 20.0, 'Average Quantity': 1.0}\n",
      "{'_id': 'abc', 'Average Prize': 60.0, 'Average Quantity': 6.0}\n"
     ]
    }
   ],
   "source": [
    "# Calculate the Average prize and Average quantity.\n",
    "# Using $multiply operator.\n",
    "\n",
    "result = mycollection.aggregate(\n",
    "[{\n",
    "    '$group':\n",
    "    {\"_id\":'$item',\n",
    "    'Average Prize':{'$avg':{'$multiply':['$price','$quantity']}},\n",
    "    'Average Quantity':{'$avg':'$quantity'}\n",
    "    }\n",
    "}])\n",
    "\n",
    "for i in result:\n",
    "    print(i)"
   ]
  },
  {
   "cell_type": "code",
   "execution_count": 28,
   "metadata": {},
   "outputs": [],
   "source": [
    "\n",
    "data=[{\n",
    "  \"_id\" : 1,\n",
    "  \"title\": \"abc123\",\n",
    "  \"isbn\": \"0001122223334\",\n",
    "  \"author\": { \"last\": \"zzz\", \"first\": \"aaa\" },\n",
    "  \"copies\": 5\n",
    "},\n",
    "{\n",
    "  \"_id\" : 2,\n",
    "  \"title\": \"Baked Goods\",\n",
    "  \"isbn\": \"9999999999999\",\n",
    "  \"author\": { \"last\": \"xyz\", \"first\": \"abc\", \"middle\": \"\" },\n",
    "  \"copies\": 2\n",
    "}\n",
    "]"
   ]
  },
  {
   "cell_type": "code",
   "execution_count": 29,
   "metadata": {},
   "outputs": [],
   "source": [
    "# create new collection\n",
    "collection=mydatabase['Books']"
   ]
  },
  {
   "cell_type": "code",
   "execution_count": 30,
   "metadata": {},
   "outputs": [
    {
     "data": {
      "text/plain": [
       "<pymongo.results.InsertManyResult at 0x2d44eafaa88>"
      ]
     },
     "execution_count": 30,
     "metadata": {},
     "output_type": "execute_result"
    }
   ],
   "source": [
    "# insert multiple documents\n",
    "collection.insert_many(data)"
   ]
  },
  {
   "cell_type": "code",
   "execution_count": 31,
   "metadata": {},
   "outputs": [
    {
     "name": "stdout",
     "output_type": "stream",
     "text": [
      "{'_id': 1, 'title': 'abc123', 'copies': 5}\n",
      "{'_id': 2, 'title': 'Baked Goods', 'copies': 2}\n"
     ]
    }
   ],
   "source": [
    "# $project is used to selct perticular fields\n",
    "for row in collection.aggregate([{'$project':{'title':1,'copies':1}}]):\n",
    "    print(row)"
   ]
  },
  {
   "cell_type": "code",
   "execution_count": null,
   "metadata": {},
   "outputs": [],
   "source": []
  },
  {
   "cell_type": "code",
   "execution_count": null,
   "metadata": {},
   "outputs": [],
   "source": []
  },
  {
   "cell_type": "code",
   "execution_count": null,
   "metadata": {},
   "outputs": [],
   "source": []
  }
 ],
 "metadata": {
  "kernelspec": {
   "display_name": "Python 3",
   "language": "python",
   "name": "python3"
  },
  "language_info": {
   "codemirror_mode": {
    "name": "ipython",
    "version": 3
   },
   "file_extension": ".py",
   "mimetype": "text/x-python",
   "name": "python",
   "nbconvert_exporter": "python",
   "pygments_lexer": "ipython3",
   "version": "3.7.1"
  }
 },
 "nbformat": 4,
 "nbformat_minor": 4
}
